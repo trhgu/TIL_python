{
 "cells": [
  {
   "cell_type": "markdown",
   "metadata": {},
   "source": [
    "### Regex\n",
    "- 정규표현식\n",
    "- 문자열ㅇ르 처리할때 특정 패턴으로 문자열을 처리하는 방법\n",
    "- 함수\n",
    "    - findall : 특정 패턴의 문자열을 찾는 함수\n",
    "    - sub : 특정 패턴으로 문자열을 찾아서 수정\n",
    "- 패턴\n",
    "    - 문자\n",
    "    - 지정자\n",
    "        - `[]` : 문자의 묶음\n",
    "        - `-` : 범위\n",
    "        - `.` : 문자하나\n",
    "        - `?` : 0회 또는 1회\n",
    "        - `*` : 0회 이상\n",
    "        - `+` : 1회 이상\n",
    "        - `{m}` : 회\n",
    "        - `{n, m}`: n회 ~ m회\n",
    "        - `()` : 그룹핑"
   ]
  },
  {
   "cell_type": "code",
   "execution_count": 1,
   "metadata": {},
   "outputs": [],
   "source": [
    "# 패턴예제\n",
    "s = '저의 이메일 주소는 janyty@gmail.com 과 python@naver.net 이있습니다.'"
   ]
  },
  {
   "cell_type": "code",
   "execution_count": 2,
   "metadata": {},
   "outputs": [],
   "source": [
    "import re"
   ]
  },
  {
   "cell_type": "code",
   "execution_count": 3,
   "metadata": {},
   "outputs": [
    {
     "data": {
      "text/plain": [
       "['janyty@gmail.com', 'python@naver.net']"
      ]
     },
     "execution_count": 3,
     "metadata": {},
     "output_type": "execute_result"
    }
   ],
   "source": [
    "p = \"[0-9a-zA-Z._]{4,20}@[a-z0-9]{3,10}[.][a-z]+\"\n",
    "re.findall(p, s)"
   ]
  },
  {
   "cell_type": "code",
   "execution_count": 13,
   "metadata": {},
   "outputs": [
    {
     "data": {
      "text/plain": [
       "[('860126-', '1908721')]"
      ]
     },
     "execution_count": 13,
     "metadata": {},
     "output_type": "execute_result"
    }
   ],
   "source": [
    "# 주민등록번호 : sub\n",
    "s = \"저의 주민등록 번호를 공개합니다. 860126-1908721 입니다. 마음껏 사용하세요.!!\"\n",
    "p = \"([0-9]{6}[-._ ]?)([1-4]{1}[0-9]{6})\"\n",
    "re.findall(p,s)\n"
   ]
  },
  {
   "cell_type": "code",
   "execution_count": 14,
   "metadata": {},
   "outputs": [
    {
     "data": {
      "text/plain": [
       "'저의 주민등록 번호를 공개합니다. 860126-******** 입니다. 마음껏 사용하세요.!!'"
      ]
     },
     "execution_count": 14,
     "metadata": {},
     "output_type": "execute_result"
    }
   ],
   "source": [
    "re.sub(p, \"\\g<1>********\", s)"
   ]
  },
  {
   "cell_type": "code",
   "execution_count": null,
   "metadata": {},
   "outputs": [],
   "source": [
    "# 중고나라\n",
    "# 제 번호는 영일o-일공삼412구팔"
   ]
  },
  {
   "cell_type": "code",
   "execution_count": 15,
   "metadata": {},
   "outputs": [],
   "source": [
    "data =\"제 번호는 영일o-일공삼412구팔 입니다\""
   ]
  },
  {
   "cell_type": "code",
   "execution_count": 19,
   "metadata": {},
   "outputs": [],
   "source": [
    "p = \"[0-9영공일이삼사오육칠팔구o]{3}.?[0-9영공일이삼사오육칠팔구]{4}.?[0-9영공일이삼사오육칠팔구]{4}\"\n",
    "tels = re.findall(p, data)"
   ]
  },
  {
   "cell_type": "code",
   "execution_count": 27,
   "metadata": {},
   "outputs": [],
   "source": [
    "pa = {\n",
    "    '영':0,\n",
    "    \"공\":0,\n",
    "    \"일\":1,\n",
    "    \"o\":0,\n",
    "    \"구\":9,\n",
    "    \"팔\":8,\n",
    "    \"삼\":3,\n",
    "}"
   ]
  },
  {
   "cell_type": "code",
   "execution_count": 28,
   "metadata": {},
   "outputs": [
    {
     "name": "stdout",
     "output_type": "stream",
     "text": [
      "영일o-일공삼412구팔\n",
      "영 0\n",
      "0일o-일공삼412구팔\n",
      "공 0\n",
      "0일o-일0삼412구팔\n",
      "일 1\n",
      "01o-10삼412구팔\n",
      "o 0\n",
      "010-10삼412구팔\n",
      "구 9\n",
      "010-10삼4129팔\n",
      "팔 8\n",
      "010-10삼41298\n",
      "삼 3\n",
      "010-10341298\n"
     ]
    }
   ],
   "source": [
    "for tel in tels:\n",
    "    print(tel)\n",
    "    for pattern in pa.keys():\n",
    "        print(pattern, pa[pattern])\n",
    "        tel = tel.replace(pattern, str(pa[pattern]))\n",
    "        print(tel)"
   ]
  },
  {
   "cell_type": "code",
   "execution_count": 24,
   "metadata": {},
   "outputs": [
    {
     "data": {
      "text/plain": [
       "'0123456789abcdefghijklmnopqrstuvwxyzABCDEFGHIJKLMNOPQRSTUVWXYZ!\"#$%&\\'()*+,-./:;<=>?@[\\\\]^_`{|}~ \\t\\n\\r\\x0b\\x0c'"
      ]
     },
     "execution_count": 24,
     "metadata": {},
     "output_type": "execute_result"
    }
   ],
   "source": [
    "import string\n",
    "string.printable"
   ]
  },
  {
   "cell_type": "code",
   "execution_count": null,
   "metadata": {},
   "outputs": [],
   "source": []
  }
 ],
 "metadata": {
  "kernelspec": {
   "display_name": "Python 3",
   "language": "python",
   "name": "python3"
  },
  "language_info": {
   "codemirror_mode": {
    "name": "ipython",
    "version": 3
   },
   "file_extension": ".py",
   "mimetype": "text/x-python",
   "name": "python",
   "nbconvert_exporter": "python",
   "pygments_lexer": "ipython3",
   "version": "3.7.4"
  }
 },
 "nbformat": 4,
 "nbformat_minor": 2
}
